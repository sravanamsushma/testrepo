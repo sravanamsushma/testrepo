{
  "metadata": {
    "kernelspec": {
      "name": "python",
      "display_name": "Pyolite",
      "language": "python"
    },
    "language_info": {
      "codemirror_mode": {
        "name": "python",
        "version": 3
      },
      "file_extension": ".py",
      "mimetype": "text/x-python",
      "name": "python",
      "nbconvert_exporter": "python",
      "pygments_lexer": "ipython3",
      "version": "3.8"
    }
  },
  "nbformat_minor": 4,
  "nbformat": 4,
  "cells": [
    {
      "cell_type": "markdown",
      "source": "<center>\n    <img src=\"https://s3-api.us-geo.objectstorage.softlayer.net/cf-courses-data/CognitiveClass/Logos/organization_logo/organization_logo.png\" width=\"300\" alt=\"cognitiveclass.ai logo\"  />\n</center>\n",
      "metadata": {}
    },
    {
      "cell_type": "markdown",
      "source": "# My Jupyter Notebook on IBM Watson Studio",
      "metadata": {}
    },
    {
      "cell_type": "markdown",
      "source": "<b> S.SUSHMA\n #### student",
      "metadata": {}
    },
    {
      "cell_type": "markdown",
      "source": "_I am interested in Data Science because its very interesting to find solutions for businees problem using data insights_",
      "metadata": {}
    },
    {
      "cell_type": "markdown",
      "source": "### The following code is for simple addition operation",
      "metadata": {}
    },
    {
      "cell_type": "code",
      "source": "#adding numbers\n10+20",
      "metadata": {
        "trusted": true
      },
      "execution_count": 15,
      "outputs": [
        {
          "execution_count": 15,
          "output_type": "execute_result",
          "data": {
            "text/plain": "30"
          },
          "metadata": {}
        }
      ]
    },
    {
      "cell_type": "markdown",
      "source": "# Bulleted List:\n* Python\n* Java\n* C++\n* R\n* PHP\n\n# Numbered List:\n1. Elephant\n2. Lion\n3. Tiger\n4. Zebra\n\n# Table\n|Name||Age||Salary|\n|----||---||------|\n|John||30||30000|\n|Tom||40||40000|\n|Peter||50||50000|",
      "metadata": {}
    }
  ]
}